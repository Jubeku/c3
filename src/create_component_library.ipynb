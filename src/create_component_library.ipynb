{
 "cells": [
  {
   "cell_type": "code",
   "execution_count": null,
   "id": "9c7ce914",
   "metadata": {},
   "outputs": [],
   "source": [
    "!pip install ipython nbformat"
   ]
  },
  {
   "cell_type": "code",
   "execution_count": null,
   "id": "a972c366-03a3-4d79-b917-01592f594eac",
   "metadata": {},
   "outputs": [],
   "source": [
    "import os\n",
    "import shutil"
   ]
  },
  {
   "cell_type": "code",
   "execution_count": null,
   "id": "728ce188-e84a-4e5b-953b-cff00c95d8d8",
   "metadata": {},
   "outputs": [],
   "source": [
    "os.scandir('../component-library/')"
   ]
  },
  {
   "cell_type": "code",
   "execution_count": null,
   "id": "528e6ac7-efd8-4b5e-9da5-9cc971b9b4b9",
   "metadata": {
    "scrolled": true,
    "tags": []
   },
   "outputs": [],
   "source": [
    "%%bash\n",
    "export version=0.1i\n",
    "for file in `find ../component-library/ -name \"*.ipynb\" |grep -vi test |grep -v checkpoints`\n",
    "do \n",
    "    ipython generate_kfp_component.ipynb $file $version 2>> log.txt >> log.txt\n",
    "    echo \"Status:\"$file:$? >> log.txt\n",
    "done"
   ]
  },
  {
   "cell_type": "code",
   "execution_count": null,
   "id": "5303c806-b63a-4392-b97f-5bb962ae8f4e",
   "metadata": {
    "scrolled": true,
    "tags": []
   },
   "outputs": [],
   "source": [
    "%%bash\n",
    "export version=0.2n\n",
    "ipython generate_kfp_component.ipynb ../../component-library/component-library/input/input-url.ipynb $version\n"
   ]
  },
  {
   "cell_type": "code",
   "execution_count": null,
   "id": "ced8585b-2208-4b77-b4ea-c629da4c5834",
   "metadata": {
    "scrolled": true,
    "tags": []
   },
   "outputs": [],
   "source": [
    "%%bash\n",
    "export version=0.2m\n",
    "ipython generate_kfp_component.ipynb ../component-library/transform/spark-json-to-parquet.ipynb $version\n"
   ]
  },
  {
   "cell_type": "code",
   "execution_count": null,
   "id": "fe9ecd44-7ba2-4077-918b-5b369e6da32c",
   "metadata": {
    "scrolled": true,
    "tags": []
   },
   "outputs": [],
   "source": [
    "%%bash\n",
    "export version=0.2n\n",
    "ipython generate_kfp_component.ipynb ../component-library/output/upload-to-cos.ipynb $version\n",
    "\n"
   ]
  },
  {
   "cell_type": "code",
   "execution_count": 33,
   "id": "2b7a758f-a293-4fa2-8e3f-a0e8557369b9",
   "metadata": {},
   "outputs": [
    {
     "name": "stdout",
     "output_type": "stream",
     "text": [
      "util-cos\n",
      "This component provides COS utility functions (e.g. creating a bucket, listing contents of a bucket)\n",
      " CLAIMED v0.29\n",
      "{'access_key_id': {'description': 'access key id', 'type': 'String', 'default': None}, 'secret_access_key': {'description': 'secret access key', 'type': 'String', 'default': None}, 'endpoint': {'description': 'cos/s3 endpoint', 'type': 'String', 'default': None}, 'bucket_name': {'description': 'cos bucket name', 'type': 'String', 'default': None}, 'path': {'description': 'path', 'type': 'String', 'default': \"''\"}, 'source': {'description': 'source in case of uploads', 'type': 'String', 'default': \" ''\"}, 'target': {'description': 'target in case of downloads', 'type': 'String', 'default': \" ''\"}, 'recursive': {'description': 'recursive', 'type': 'Boolean', 'default': \"'False'\"}, 'operation': {'description': 'operation (mkdir|ls|find|get|put|rm|sync_to_cos|sync_to_local)', 'type': 'String', 'default': None}, 'log_level': {'description': 'log level', 'type': 'String', 'default': \" 'INFO'\"}}\n",
      "{}\n",
      "['pip install  aiobotocore botocore s3fs']\n",
      "../../component-library/component-library/util/util-cos.ipynb\n",
      "\n",
      "FROM registry.access.redhat.com/ubi8/python-39 \n",
      "USER root\n",
      "RUN dnf install -y java-11-openjdk\n",
      "USER default\n",
      "RUN pip install ipython==8.6.0 nbformat==5.7.0\n",
      "RUN pip install  aiobotocore botocore s3fs\n",
      "ADD util-cos.ipynb /opt/app-root/src/\n",
      "CMD [\"ipython\", \"/opt/app-root/src/util-cos.ipynb\"]\n"
     ]
    },
    {
     "name": "stderr",
     "output_type": "stream",
     "text": [
      "#1 [internal] load .dockerignore\n",
      "#1 transferring context: 2B done\n",
      "#1 DONE 0.0s\n",
      "\n",
      "#2 [internal] load build definition from Dockerfile\n",
      "#2 transferring dockerfile: 385B done\n",
      "#2 DONE 0.0s\n",
      "\n",
      "#3 [internal] load metadata for registry.access.redhat.com/ubi8/python-39:latest\n",
      "#3 DONE 0.0s\n",
      "\n",
      "#4 [1/5] FROM registry.access.redhat.com/ubi8/python-39\n",
      "#4 DONE 0.0s\n",
      "\n",
      "#5 [internal] load build context\n",
      "#5 transferring context: 8.64kB done\n",
      "#5 DONE 0.0s\n",
      "\n",
      "#6 [2/5] RUN dnf install -y java-11-openjdk\n",
      "#6 CACHED\n",
      "\n",
      "#7 [4/5] RUN pip install  aiobotocore botocore s3fs\n",
      "#7 CACHED\n",
      "\n",
      "#8 [3/5] RUN pip install ipython==8.6.0 nbformat==5.7.0\n",
      "#8 CACHED\n",
      "\n",
      "#9 [5/5] ADD util-cos.ipynb /opt/app-root/src/\n",
      "#9 CACHED\n",
      "\n",
      "#10 exporting to image\n",
      "#10 exporting layers done\n",
      "#10 writing image sha256:07187cacad33f42c17f1686b51452342d6bb0bd91d5452634f92d96a4bf5cf1f done\n",
      "#10 naming to docker.io/library/claimed-util-cos:0.29 done\n",
      "#10 DONE 0.0s\n"
     ]
    },
    {
     "name": "stdout",
     "output_type": "stream",
     "text": [
      "The push refers to repository [docker.io/romeokienzler/claimed-util-cos]\n",
      "ade67154bab7: Preparing\n",
      "d58d29942c09: Preparing\n",
      "2902622ed6d0: Preparing\n",
      "20b51819921d: Preparing\n",
      "6d3c2c9872b8: Preparing\n",
      "f945189ba7d6: Preparing\n",
      "c7649cc32711: Preparing\n",
      "486dcc5a5ac3: Preparing\n",
      "c7649cc32711: Waiting\n",
      "f945189ba7d6: Waiting\n",
      "486dcc5a5ac3: Waiting\n",
      "6d3c2c9872b8: Layer already exists\n",
      "20b51819921d: Layer already exists\n",
      "2902622ed6d0: Layer already exists\n",
      "ade67154bab7: Layer already exists\n",
      "486dcc5a5ac3: Layer already exists\n",
      "c7649cc32711: Layer already exists\n",
      "d58d29942c09: Layer already exists\n",
      "f945189ba7d6: Layer already exists\n",
      "0.29: digest: sha256:e0e1f4215bb97e8a9666ce98f413c8392e2431b068ff54009abcdd3167d71d83 size: 2011\n",
      "The push refers to repository [docker.io/romeokienzler/claimed-util-cos]\n",
      "ade67154bab7: Preparing\n",
      "d58d29942c09: Preparing\n",
      "2902622ed6d0: Preparing\n",
      "20b51819921d: Preparing\n",
      "6d3c2c9872b8: Preparing\n",
      "f945189ba7d6: Preparing\n",
      "c7649cc32711: Preparing\n",
      "486dcc5a5ac3: Preparing\n",
      "f945189ba7d6: Waiting\n",
      "c7649cc32711: Waiting\n",
      "486dcc5a5ac3: Waiting\n",
      "6d3c2c9872b8: Layer already exists\n",
      "ade67154bab7: Layer already exists\n",
      "2902622ed6d0: Layer already exists\n",
      "20b51819921d: Layer already exists\n",
      "d58d29942c09: Layer already exists\n",
      "f945189ba7d6: Layer already exists\n",
      "c7649cc32711: Layer already exists\n",
      "486dcc5a5ac3: Layer already exists\n",
      "latest: digest: sha256:e0e1f4215bb97e8a9666ce98f413c8392e2431b068ff54009abcdd3167d71d83 size: 2011\n",
      "name: util-cos\n",
      "description: This component provides COS utility functions (e.g. creating a bucket, listing contents of a bucket)\n",
      " CLAIMED v0.29\n",
      "\n",
      "inputs:\n",
      "- {name: access_key_id, type: String, description: access key id}\n",
      "- {name: secret_access_key, type: String, description: secret access key}\n",
      "- {name: endpoint, type: String, description: cos/s3 endpoint}\n",
      "- {name: bucket_name, type: String, description: cos bucket name}\n",
      "- {name: path, type: String, description: path, default: ''}\n",
      "- {name: source, type: String, description: source in case of uploads, default:  ''}\n",
      "- {name: target, type: String, description: target in case of downloads, default:  ''}\n",
      "- {name: recursive, type: Boolean, description: recursive, default: 'False'}\n",
      "- {name: operation, type: String, description: operation (mkdir|ls|find|get|put|rm|sync_to_cos|sync_to_local)}\n",
      "- {name: log_level, type: String, description: log level, default:  'INFO'}\n",
      "\n",
      "\n",
      "implementation:\n",
      "    container:\n",
      "        image: romeokienzler/claimed-util-cos:0.29\n",
      "        command:\n",
      "        - sh\n",
      "        - -ec\n",
      "        - |\n",
      "          ipython ./util-cos.ipynb access_key_id=\"$0\" secret_access_key=\"$1\" endpoint=\"$2\" bucket_name=\"$3\" path=\"$4\" source=\"$5\" target=\"$6\" recursive=\"$7\" operation=\"$8\" log_level=\"$9\" \n",
      "        - {inputValue: access_key_id}\n",
      "        - {inputValue: secret_access_key}\n",
      "        - {inputValue: endpoint}\n",
      "        - {inputValue: bucket_name}\n",
      "        - {inputValue: path}\n",
      "        - {inputValue: source}\n",
      "        - {inputValue: target}\n",
      "        - {inputValue: recursive}\n",
      "        - {inputValue: operation}\n",
      "        - {inputValue: log_level}\n",
      "\n"
     ]
    }
   ],
   "source": [
    "%%bash\n",
    "export version=0.29\n",
    "ipython generate_kfp_component.ipynb ../../component-library/component-library/util/util-cos.ipynb $version"
   ]
  },
  {
   "cell_type": "code",
   "execution_count": 37,
   "id": "dc39195e",
   "metadata": {},
   "outputs": [
    {
     "name": "stdout",
     "output_type": "stream",
     "text": [
      "geo-hls-remove-clouds\n",
      "Removes clouds from HLS data CLAIMED v0.32\n",
      "{'input_path': {'description': 'path for input', 'type': 'String', 'default': \"'/home/romeokienzler/Downloads/HLS2022/HLS/**/*'\"}, 'target_path': {'description': 'path for output', 'type': 'String', 'default': \"'/home/romeokienzler/Downloads/HLSS30.CF2.v3/'\"}, 'satellite': {'description': 'satellite', 'type': 'String', 'default': \"'HLS.L30'\"}, 'file_filter_pattern': {'description': 'file filter pattern', 'type': 'String', 'default': \"'HLS.S30*0.B*tif'\"}, 'log_level': {'description': 'log level', 'type': 'String', 'default': \" 'INFO'\"}}\n",
      "{}\n",
      "['pip install  xarray matplotlib geopandas rioxarray numpy shapely rasterio pyproj ipython dask distributed jinja2 bokeh ipython nbformat aiobotocore botocore s3fs']\n",
      "../../workflows-and-operators/operators/hls_remove_clouds.ipynb\n",
      "\n",
      "FROM registry.access.redhat.com/ubi8/python-39 \n",
      "USER root\n",
      "RUN dnf install -y java-11-openjdk\n",
      "USER default\n",
      "RUN pip install ipython==8.6.0 nbformat==5.7.0\n",
      "RUN pip install  xarray matplotlib geopandas rioxarray numpy shapely rasterio pyproj ipython dask distributed jinja2 bokeh ipython nbformat aiobotocore botocore s3fs\n",
      "ADD hls_remove_clouds.ipynb /opt/app-root/src/\n",
      "CMD [\"ipython\", \"/opt/app-root/src/hls_remove_clouds.ipynb\"]\n"
     ]
    },
    {
     "name": "stderr",
     "output_type": "stream",
     "text": [
      "#1 [internal] load .dockerignore\n",
      "#1 transferring context: 2B done\n",
      "#1 DONE 0.0s\n",
      "\n",
      "#2 [internal] load build definition from Dockerfile\n",
      "#2 transferring dockerfile: 526B done\n",
      "#2 DONE 0.0s\n",
      "\n",
      "#3 [internal] load metadata for registry.access.redhat.com/ubi8/python-39:latest\n",
      "#3 DONE 0.0s\n",
      "\n",
      "#4 [1/5] FROM registry.access.redhat.com/ubi8/python-39\n",
      "#4 DONE 0.0s\n",
      "\n",
      "#5 [internal] load build context\n",
      "#5 transferring context: 13.90kB done\n",
      "#5 DONE 0.0s\n",
      "\n",
      "#6 [2/5] RUN dnf install -y java-11-openjdk\n",
      "#6 CACHED\n",
      "\n",
      "#7 [3/5] RUN pip install ipython==8.6.0 nbformat==5.7.0\n",
      "#7 CACHED\n",
      "\n",
      "#8 [4/5] RUN pip install  xarray matplotlib geopandas rioxarray numpy shapely rasterio pyproj ipython dask distributed jinja2 bokeh ipython nbformat aiobotocore botocore s3fs\n",
      "#8 CACHED\n",
      "\n",
      "#9 [5/5] ADD hls_remove_clouds.ipynb /opt/app-root/src/\n",
      "#9 DONE 0.1s\n",
      "\n",
      "#10 exporting to image\n",
      "#10 exporting layers\n",
      "#10 exporting layers 1.9s done\n",
      "#10 writing image sha256:751a9436d257bf6d92a3a6ae71cb5217f001f87876a155f0df0e053e7e50a708 done\n",
      "#10 naming to docker.io/library/claimed-geo-hls-remove-clouds:0.32 done\n",
      "#10 DONE 1.9s\n"
     ]
    },
    {
     "name": "stdout",
     "output_type": "stream",
     "text": [
      "The push refers to repository [docker.io/romeokienzler/claimed-geo-hls-remove-clouds]\n",
      "f1f396df7f96: Preparing\n",
      "1bb304a805f1: Preparing\n",
      "2902622ed6d0: Preparing\n",
      "20b51819921d: Preparing\n",
      "6d3c2c9872b8: Preparing\n",
      "f945189ba7d6: Preparing\n",
      "c7649cc32711: Preparing\n",
      "486dcc5a5ac3: Preparing\n",
      "c7649cc32711: Waiting\n",
      "486dcc5a5ac3: Waiting\n",
      "f945189ba7d6: Waiting\n",
      "20b51819921d: Layer already exists\n",
      "1bb304a805f1: Layer already exists\n",
      "6d3c2c9872b8: Layer already exists\n",
      "2902622ed6d0: Layer already exists\n",
      "f945189ba7d6: Layer already exists\n",
      "486dcc5a5ac3: Layer already exists\n",
      "c7649cc32711: Layer already exists\n",
      "f1f396df7f96: Pushed\n",
      "0.32: digest: sha256:e7adcd7923d40ef3aa2125090469e94b2955fc42bef364784b97cb46508c0966 size: 2012\n",
      "The push refers to repository [docker.io/romeokienzler/claimed-geo-hls-remove-clouds]\n",
      "f1f396df7f96: Preparing\n",
      "1bb304a805f1: Preparing\n",
      "2902622ed6d0: Preparing\n",
      "20b51819921d: Preparing\n",
      "6d3c2c9872b8: Preparing\n",
      "f945189ba7d6: Preparing\n",
      "c7649cc32711: Preparing\n",
      "486dcc5a5ac3: Preparing\n",
      "c7649cc32711: Waiting\n",
      "486dcc5a5ac3: Waiting\n",
      "f945189ba7d6: Waiting\n",
      "2902622ed6d0: Layer already exists\n",
      "1bb304a805f1: Layer already exists\n",
      "6d3c2c9872b8: Layer already exists\n",
      "f1f396df7f96: Layer already exists\n",
      "20b51819921d: Layer already exists\n",
      "f945189ba7d6: Layer already exists\n",
      "486dcc5a5ac3: Layer already exists\n",
      "c7649cc32711: Layer already exists\n",
      "latest: digest: sha256:e7adcd7923d40ef3aa2125090469e94b2955fc42bef364784b97cb46508c0966 size: 2012\n",
      "name: geo-hls-remove-clouds\n",
      "description: Removes clouds from HLS data CLAIMED v0.32\n",
      "\n",
      "inputs:\n",
      "- {name: input_path, type: String, description: path for input, default: '/home/romeokienzler/Downloads/HLS2022/HLS/**/*'}\n",
      "- {name: target_path, type: String, description: path for output, default: '/home/romeokienzler/Downloads/HLSS30.CF2.v3/'}\n",
      "- {name: satellite, type: String, description: satellite, default: 'HLS.L30'}\n",
      "- {name: file_filter_pattern, type: String, description: file filter pattern, default: 'HLS.S30*0.B*tif'}\n",
      "- {name: log_level, type: String, description: log level, default:  'INFO'}\n",
      "\n",
      "\n",
      "implementation:\n",
      "    container:\n",
      "        image: romeokienzler/claimed-geo-hls-remove-clouds:0.32\n",
      "        command:\n",
      "        - sh\n",
      "        - -ec\n",
      "        - |\n",
      "          ipython ./hls_remove_clouds.ipynb input_path=\"$0\" target_path=\"$1\" satellite=\"$2\" file_filter_pattern=\"$3\" log_level=\"$4\" \n",
      "        - {inputValue: input_path}\n",
      "        - {inputValue: target_path}\n",
      "        - {inputValue: satellite}\n",
      "        - {inputValue: file_filter_pattern}\n",
      "        - {inputValue: log_level}\n",
      "\n"
     ]
    }
   ],
   "source": [
    "%%bash\n",
    "export version=0.33\n",
    "ipython generate_kfp_component.ipynb ../../workflows-and-operators/operators/hls_remove_clouds.ipynb $version\n"
   ]
  },
  {
   "cell_type": "code",
   "execution_count": null,
   "id": "70241e41",
   "metadata": {},
   "outputs": [],
   "source": []
  }
 ],
 "metadata": {
  "kernelspec": {
   "display_name": "Python 3 (ipykernel)",
   "language": "python",
   "name": "python3"
  },
  "language_info": {
   "codemirror_mode": {
    "name": "ipython",
    "version": 3
   },
   "file_extension": ".py",
   "mimetype": "text/x-python",
   "name": "python",
   "nbconvert_exporter": "python",
   "pygments_lexer": "ipython3",
   "version": "3.11.3"
  }
 },
 "nbformat": 4,
 "nbformat_minor": 5
}
